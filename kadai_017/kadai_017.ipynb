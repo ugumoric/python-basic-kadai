{
  "nbformat": 4,
  "nbformat_minor": 0,
  "metadata": {
    "colab": {
      "provenance": []
    },
    "kernelspec": {
      "name": "python3",
      "display_name": "Python 3"
    },
    "language_info": {
      "name": "python"
    }
  },
  "cells": [
    {
      "cell_type": "code",
      "source": [
        "class Human:\n",
        "  def __init__(self, name, age):\n",
        "    self.name = name\n",
        "    self.age = age\n",
        "  def check_adult(self):\n",
        "    if self.age < 20:\n",
        "      print(f\"{self.name}さんは{self.age}歳なので大人ではありません\")\n",
        "    else:\n",
        "      print(f\"{self.name}さんは{self.age}歳なので大人です\")\n",
        "\n",
        "human_1 = Human(\"侍太郎\", 20)\n",
        "human_2 = Human(\"侍二郎\", 19)\n",
        "\n",
        "humans = [human_1, human_2]\n",
        "\n",
        "for human in humans:\n",
        "  human.check_adult()\n"
      ],
      "metadata": {
        "colab": {
          "base_uri": "https://localhost:8080/"
        },
        "id": "vpClEv_w1QV3",
        "outputId": "b2e42a30-5efb-48be-d723-f70f3e694a7c"
      },
      "execution_count": 20,
      "outputs": [
        {
          "output_type": "stream",
          "name": "stdout",
          "text": [
            "侍太郎さんは20歳なので大人です\n",
            "侍二郎さんは19歳なので大人ではありません\n"
          ]
        }
      ]
    },
    {
      "cell_type": "code",
      "source": [],
      "metadata": {
        "id": "CAbYzQRK5auU"
      },
      "execution_count": null,
      "outputs": []
    }
  ]
}