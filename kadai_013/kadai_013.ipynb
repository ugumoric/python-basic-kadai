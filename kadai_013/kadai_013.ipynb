{
  "nbformat": 4,
  "nbformat_minor": 0,
  "metadata": {
    "colab": {
      "provenance": []
    },
    "kernelspec": {
      "name": "python3",
      "display_name": "Python 3"
    },
    "language_info": {
      "name": "python"
    }
  },
  "cells": [
    {
      "cell_type": "code",
      "source": [
        "def say_good_morning():\n",
        "  print(\"おはようございます！\")\n",
        "  print(\"昨日はよく眠れましたか？\")\n",
        "  print(\"今日も一日頑張りましょう！\")\n",
        "\n",
        "def say_good_evening():\n",
        "  print(\"こんばんは！\")\n",
        "  print(\"今日も一日お疲れさまでした。\")\n",
        "\n",
        "say_good_morning()\n",
        "\n",
        "say_good_evening()"
      ],
      "metadata": {
        "id": "El-44Vp_Qz2M",
        "colab": {
          "base_uri": "https://localhost:8080/"
        },
        "outputId": "5839b8a2-c8a5-45f2-9d44-cd0acd2f7bce"
      },
      "execution_count": 1,
      "outputs": [
        {
          "output_type": "stream",
          "name": "stdout",
          "text": [
            "おはようございます！\n",
            "昨日はよく眠れましたか？\n",
            "今日も一日頑張りましょう！\n",
            "こんばんは！\n",
            "今日も一日お疲れさまでした。\n"
          ]
        }
      ]
    },
    {
      "cell_type": "code",
      "source": [
        "def calculate_total(price):\n",
        "  total = price + 500\n",
        "  print(f\"{total}円\")\n",
        "\n",
        "calculate_total(1200)"
      ],
      "metadata": {
        "id": "VR2pumbwHlB9",
        "colab": {
          "base_uri": "https://localhost:8080/"
        },
        "outputId": "d3807f46-119e-4e47-b4d3-e3d550cca296"
      },
      "execution_count": 2,
      "outputs": [
        {
          "output_type": "stream",
          "name": "stdout",
          "text": [
            "1700円\n"
          ]
        }
      ]
    },
    {
      "cell_type": "code",
      "source": [
        "def add_consumption_tax(price, tax_rate: int):\n",
        "  total = price + price * (tax_rate / 100)\n",
        "  print(f\"{total}円\")\n",
        "\n",
        "add_consumption_tax(1000, 10)"
      ],
      "metadata": {
        "colab": {
          "base_uri": "https://localhost:8080/"
        },
        "id": "RQ6W8JPhKlZ2",
        "outputId": "137c9bbd-64c2-4c06-d4d5-577a706b15f7"
      },
      "execution_count": 7,
      "outputs": [
        {
          "output_type": "stream",
          "name": "stdout",
          "text": [
            "1100.0円\n"
          ]
        }
      ]
    },
    {
      "cell_type": "code",
      "source": [],
      "metadata": {
        "id": "Hm3qFNkcQO9I"
      },
      "execution_count": null,
      "outputs": []
    }
  ]
}