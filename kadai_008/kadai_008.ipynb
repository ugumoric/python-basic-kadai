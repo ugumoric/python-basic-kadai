{
  "nbformat": 4,
  "nbformat_minor": 0,
  "metadata": {
    "colab": {
      "provenance": []
    },
    "kernelspec": {
      "name": "python3",
      "display_name": "Python 3"
    },
    "language_info": {
      "name": "python"
    }
  },
  "cells": [
    {
      "cell_type": "code",
      "source": [
        "import random\n",
        "var = random.randint(1, 100)\n",
        "print(var)\n",
        "\n",
        "if (var % 3) == 0 and (var % 5) == 0:\n",
        "  print(\"FizzBuzz\")\n",
        "elif (var%3) == 0:\n",
        "  print(\"Fizz\")\n",
        "elif (var%5) == 0:\n",
        "  print(\"Buzz\")\n",
        "else:\n",
        "  print(var)"
      ],
      "metadata": {
        "colab": {
          "base_uri": "https://localhost:8080/"
        },
        "id": "r9P8kt7y9xv-",
        "outputId": "a28ab35e-31b8-4f8a-f217-1485163b6dd7"
      },
      "execution_count": 61,
      "outputs": [
        {
          "output_type": "stream",
          "name": "stdout",
          "text": [
            "45\n",
            "FizzBuzz\n"
          ]
        }
      ]
    },
    {
      "cell_type": "code",
      "source": [],
      "metadata": {
        "id": "bj0Po4io9PgQ"
      },
      "execution_count": null,
      "outputs": []
    }
  ]
}